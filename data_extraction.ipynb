{
 "cells": [
  {
   "cell_type": "code",
   "execution_count": 50,
   "id": "8849a937",
   "metadata": {},
   "outputs": [],
   "source": [
    "import pandas as pd\n",
    "import numpy as np"
   ]
  },
  {
   "cell_type": "code",
   "execution_count": 107,
   "id": "ec859d35",
   "metadata": {},
   "outputs": [
    {
     "name": "stdout",
     "output_type": "stream",
     "text": [
      "File names in the folder:\n",
      "simplified_D18_DpiA.xyz - Copy.nwo\n",
      "simplified_D18_DpiA.xyz.nwo\n",
      "\n",
      "Processing file: simplified_D18_DpiA.xyz - Copy.nwo\n",
      "No of atoms: 42.0\n",
      "No of electrons: 264.0\n",
      "Total DFT energy: -3419.424724614816\n",
      "[['simplified_D18_DpiA.xyz - Copy.nwo' '42.0' '264.0'\n",
      "  '-3419.424724614816' 'smiley_code' '24' '9' '6' '2' '1' '0']]\n",
      "\n",
      "Processing file: simplified_D18_DpiA.xyz.nwo\n",
      "No of atoms: 42.0\n",
      "No of electrons: 264.0\n",
      "Total DFT energy: -3419.424724614816\n",
      "[['simplified_D18_DpiA.xyz - Copy.nwo' '42.0' '264.0'\n",
      "  '-3419.424724614816' 'smiley_code' '24' '9' '6' '2' '1' '0']\n",
      " ['simplified_D18_DpiA.xyz.nwo' '42.0' '264.0' '-3419.424724614816'\n",
      "  'smiley_code' '24' '10' '6' '2' '0' '0']]\n"
     ]
    }
   ],
   "source": [
    "import os\n",
    "\n",
    "# Function to get all file names in a folder\n",
    "def get_files_in_folder(folder_path):\n",
    "    files = os.listdir(folder_path)\n",
    "    return files\n",
    "\n",
    "# Function to read the first line of a file\n",
    "def read_first_line(file_path):\n",
    "    with open(file_path, 'r') as file:\n",
    "        first_line = file.readline().strip()\n",
    "    return first_line\n",
    "\n",
    "# Path to the folder containing the files\n",
    "folder_path = r'C:\\Users\\Admin\\Untitled Folder\\xyz files'\n",
    "\n",
    "# Get all file names in the folder\n",
    "file_names = get_files_in_folder(folder_path)\n",
    "\n",
    "# Print the names of the files\n",
    "print(\"File names in the folder:\")\n",
    "for file_name in file_names:\n",
    "    print(file_name)\n",
    "def extract_data(file_path):\n",
    "    with open(file_path, 'r',encoding='utf-8') as file:\n",
    "        lines = file.readlines()\n",
    "        natom = None\n",
    "        denergy = None\n",
    "        nelectrons= None\n",
    "        for line in lines:\n",
    "            if \"No. of atoms     \" in line:\n",
    "                natom = line.split()[-1]\n",
    "            elif \"No. of electrons \" in line:\n",
    "                nelectrons = line.split()[-1] # Extracting 3 characters after \"No of atoms\"\n",
    "            elif \"Total DFT energy\" in line:\n",
    "                denergy = line.split()[-1]  # Extracting data after \"Total DFT energy\"\n",
    "    data = []\n",
    "    with open(file_path, 'r', encoding='utf-8') as file:\n",
    "        lines = file.readlines()\n",
    "        start_reading = False\n",
    "        for line in lines:\n",
    "            if \"No.       Tag          Charge          X              Y              Z\" in line:\n",
    "                start_reading = True\n",
    "                continue\n",
    "            if start_reading:\n",
    "                parts = line.split()\n",
    "                if len(parts) == 6:  # Assuming each line has exactly 6 columns\n",
    "                    data.append(parts)\n",
    "                if len(data) == float(natom)+1:  # Read two lines after encountering the header\n",
    "                    break\n",
    "    df = pd.DataFrame(data, columns=[\"No.\", \"Tag\", \"Charge\", \"X\", \"Y\", \"Z\"])\n",
    "    df.drop(0,inplace=True)\n",
    "    \n",
    "    return df,natom,nelectrons, denergy\n",
    "data = np.empty((0, 11))\n",
    "\n",
    "# Read the first file and print its first line\n",
    "for file_name in file_names:\n",
    "    file_path = os.path.join(folder_path, file_name)\n",
    "    print(\"\\nProcessing file:\", file_name)\n",
    "    df,natom,nelectrons, denergy = extract_data(file_path)\n",
    "    print(\"No of atoms:\", float(natom))\n",
    "    print(\"No of electrons:\", float(nelectrons))\n",
    "    print(\"Total DFT energy:\", float(denergy))\n",
    "    pd.DataFrame(df)\n",
    "    da=pd.Series(df.drop('No.',axis=1).value_counts('Tag')).reindex()\n",
    "    element_order = ['C', 'H', 'S', 'N', 'O', 'Misc']\n",
    "    for i, element in enumerate(element_order):\n",
    "        if element in da.index:\n",
    "            globals()[element]= da[element]\n",
    "        else:\n",
    "            globals()[element]=0\n",
    "    row = np.array([[file_name, float(natom), float(nelectrons), float(denergy), 'smiley_code',C,H,S,N,O,Misc]])\n",
    "    data = np.append(data, row, axis=0)\n",
    "    array = np.zeros((1, len(element_order)), dtype=int)\n",
    "\n",
    "    print(data)\n"
   ]
  },
  {
   "cell_type": "code",
   "execution_count": 108,
   "id": "74bb45f5",
   "metadata": {},
   "outputs": [],
   "source": [
    "columns = [\"file_name\", \"No of atoms\", \"No of electrons\", \"Total DFT energy\", \"smiley code\",'C', 'H', 'S', 'N', 'O', 'Misc']\n",
    "df_main = pd.DataFrame(data,columns=columns)"
   ]
  },
  {
   "cell_type": "code",
   "execution_count": 110,
   "id": "f9f45dae",
   "metadata": {},
   "outputs": [
    {
     "data": {
      "text/html": [
       "<div>\n",
       "<style scoped>\n",
       "    .dataframe tbody tr th:only-of-type {\n",
       "        vertical-align: middle;\n",
       "    }\n",
       "\n",
       "    .dataframe tbody tr th {\n",
       "        vertical-align: top;\n",
       "    }\n",
       "\n",
       "    .dataframe thead th {\n",
       "        text-align: right;\n",
       "    }\n",
       "</style>\n",
       "<table border=\"1\" class=\"dataframe\">\n",
       "  <thead>\n",
       "    <tr style=\"text-align: right;\">\n",
       "      <th></th>\n",
       "      <th>file_name</th>\n",
       "      <th>No of atoms</th>\n",
       "      <th>No of electrons</th>\n",
       "      <th>Total DFT energy</th>\n",
       "      <th>smiley code</th>\n",
       "      <th>C</th>\n",
       "      <th>H</th>\n",
       "      <th>S</th>\n",
       "      <th>N</th>\n",
       "      <th>O</th>\n",
       "      <th>Misc</th>\n",
       "    </tr>\n",
       "  </thead>\n",
       "  <tbody>\n",
       "    <tr>\n",
       "      <th>0</th>\n",
       "      <td>simplified_D18_DpiA.xyz - Copy.nwo</td>\n",
       "      <td>42.0</td>\n",
       "      <td>264.0</td>\n",
       "      <td>-3419.424724614816</td>\n",
       "      <td>smiley_code</td>\n",
       "      <td>24</td>\n",
       "      <td>9</td>\n",
       "      <td>6</td>\n",
       "      <td>2</td>\n",
       "      <td>1</td>\n",
       "      <td>0</td>\n",
       "    </tr>\n",
       "    <tr>\n",
       "      <th>1</th>\n",
       "      <td>simplified_D18_DpiA.xyz.nwo</td>\n",
       "      <td>42.0</td>\n",
       "      <td>264.0</td>\n",
       "      <td>-3419.424724614816</td>\n",
       "      <td>smiley_code</td>\n",
       "      <td>24</td>\n",
       "      <td>10</td>\n",
       "      <td>6</td>\n",
       "      <td>2</td>\n",
       "      <td>0</td>\n",
       "      <td>0</td>\n",
       "    </tr>\n",
       "  </tbody>\n",
       "</table>\n",
       "</div>"
      ],
      "text/plain": [
       "                            file_name No of atoms No of electrons  \\\n",
       "0  simplified_D18_DpiA.xyz - Copy.nwo        42.0           264.0   \n",
       "1         simplified_D18_DpiA.xyz.nwo        42.0           264.0   \n",
       "\n",
       "     Total DFT energy  smiley code   C   H  S  N  O Misc  \n",
       "0  -3419.424724614816  smiley_code  24   9  6  2  1    0  \n",
       "1  -3419.424724614816  smiley_code  24  10  6  2  0    0  "
      ]
     },
     "execution_count": 110,
     "metadata": {},
     "output_type": "execute_result"
    }
   ],
   "source": [
    "df_main"
   ]
  },
  {
   "cell_type": "code",
   "execution_count": 112,
   "id": "a8d2c7dc",
   "metadata": {},
   "outputs": [
    {
     "name": "stdout",
     "output_type": "stream",
     "text": [
      "C:\\Users\\Admin\\Untitled Folder\\git repo\n"
     ]
    }
   ],
   "source": [
    "cd \"C:\\Users\\Admin\\Untitled Folder\\git repo\""
   ]
  },
  {
   "cell_type": "code",
   "execution_count": 113,
   "id": "d75b73c0",
   "metadata": {},
   "outputs": [
    {
     "name": "stdout",
     "output_type": "stream",
     "text": [
      "C:\\Users\\Admin\\Untitled Folder\\git repo\\xyz2mol\n"
     ]
    }
   ],
   "source": [
    "cd xyz2mol"
   ]
  },
  {
   "cell_type": "code",
   "execution_count": 133,
   "id": "baf7573a",
   "metadata": {},
   "outputs": [
    {
     "name": "stdout",
     "output_type": "stream",
     "text": [
      "c1cc2cc3sc(-c4ccc(-c5cc6c7nsnc7c7ccsc7c6s5)s4)cc3cc2s1\n"
     ]
    }
   ],
   "source": [
    "!python xyz2mol.py \"C:\\Users\\Admin\\Untitled Folder\\git repo\\optimized_simplified_D18_DpiA.xyz\"\n"
   ]
  }
 ],
 "metadata": {
  "kernelspec": {
   "display_name": "Python 3 (ipykernel)",
   "language": "python",
   "name": "python3"
  },
  "language_info": {
   "codemirror_mode": {
    "name": "ipython",
    "version": 3
   },
   "file_extension": ".py",
   "mimetype": "text/x-python",
   "name": "python",
   "nbconvert_exporter": "python",
   "pygments_lexer": "ipython3",
   "version": "3.11.5"
  }
 },
 "nbformat": 4,
 "nbformat_minor": 5
}
